{
 "cells": [
  {
   "cell_type": "markdown",
   "metadata": {
    "id": "2Zw1HG0MfJnz"
   },
   "source": [
    "# CNN\n",
    "\n",
    "본 문서는 TensorFlow Keras 를 사용하여 CNN 을 구현해 보는 문서입니다.<br>\n",
    "Convolutional Neural Networks 는 현재 이미지 분석에서 가장 성공적으로 쓰이고 있습니다.<br>\n",
    "\n",
    "![](http://ufldl.stanford.edu/tutorial/images/Cnn_layer.png)\n",
    "(출처: http://ufldl.stanford.edu/tutorial/images/Cnn_layer.png)"
   ]
  },
  {
   "cell_type": "markdown",
   "metadata": {
    "id": "hPQa4p4Wum_V"
   },
   "source": [
    "## Hyper parameter "
   ]
  },
  {
   "cell_type": "code",
   "execution_count": 1,
   "metadata": {
    "executionInfo": {
     "elapsed": 587,
     "status": "ok",
     "timestamp": 1628494965607,
     "user": {
      "displayName": "김성국",
      "photoUrl": "",
      "userId": "14454204284131910272"
     },
     "user_tz": -540
    },
    "id": "mp7ZWMiAumWy"
   },
   "outputs": [],
   "source": [
    "batch_size = 128\n",
    "num_classes = 10\n",
    "epochs = 15"
   ]
  },
  {
   "cell_type": "markdown",
   "metadata": {
    "id": "amE0xpMotrSE"
   },
   "source": [
    "## 라이브러리 및 함수 설정\n"
   ]
  },
  {
   "cell_type": "code",
   "execution_count": 2,
   "metadata": {
    "executionInfo": {
     "elapsed": 1834,
     "status": "ok",
     "timestamp": 1628494968055,
     "user": {
      "displayName": "김성국",
      "photoUrl": "",
      "userId": "14454204284131910272"
     },
     "user_tz": -540
    },
    "id": "1rJH9copr4sZ"
   },
   "outputs": [],
   "source": [
    "import numpy as np\n",
    "from tensorflow import keras\n",
    "from tensorflow.keras.models import Sequential\n",
    "from tensorflow.keras.layers import Dense, Conv2D, MaxPooling2D, Dropout, Flatten\n",
    "from keras import optimizers\n",
    "\n",
    "import matplotlib.pyplot as plt\n",
    "def hist_view(hist):\n",
    "  print('## training loss and acc ##')\n",
    "  fig, loss_ax = plt.subplots()\n",
    "  acc_ax = loss_ax.twinx()\n",
    "\n",
    "  loss_ax.plot(hist.history['loss'], 'y', label='train loss')\n",
    "  loss_ax.plot(hist.history['val_loss'], 'r', label='val loss')\n",
    "\n",
    "  loss_ax.set_xlabel('epoch')\n",
    "  loss_ax.set_ylabel('loss')\n",
    "  loss_ax.legend(loc='center')\n",
    "\n",
    "  acc_ax.plot(hist.history['accuracy'], 'b', label='train acc')\n",
    "  acc_ax.plot(hist.history['val_accuracy'], 'g', label='val acc')\n",
    "  acc_ax.set_ylabel('accuracy')\n",
    "  acc_ax.legend(loc='center right')\n",
    "\n",
    "  plt.show()"
   ]
  },
  {
   "cell_type": "markdown",
   "metadata": {
    "id": "tzynlshIfJn6"
   },
   "source": [
    "## Mnist \n",
    "Data 가져오기\n"
   ]
  },
  {
   "cell_type": "code",
   "execution_count": 3,
   "metadata": {
    "executionInfo": {
     "elapsed": 25,
     "status": "ok",
     "timestamp": 1628494968058,
     "user": {
      "displayName": "김성국",
      "photoUrl": "",
      "userId": "14454204284131910272"
     },
     "user_tz": -540
    },
    "id": "i2o2sWi6vDUs"
   },
   "outputs": [],
   "source": [
    "from tensorflow.keras.datasets import mnist\n",
    "\n",
    "(x_train, y_train), (x_test, y_test) = mnist.load_data()"
   ]
  },
  {
   "cell_type": "markdown",
   "metadata": {
    "id": "GfBC7KsywMh_"
   },
   "source": [
    "## 데이터 세팅"
   ]
  },
  {
   "cell_type": "code",
   "execution_count": 4,
   "metadata": {
    "colab": {
     "base_uri": "https://localhost:8080/"
    },
    "executionInfo": {
     "elapsed": 412,
     "status": "ok",
     "timestamp": 1628494968449,
     "user": {
      "displayName": "김성국",
      "photoUrl": "",
      "userId": "14454204284131910272"
     },
     "user_tz": -540
    },
    "id": "QFD6ZEiNvYD2",
    "outputId": "ce60f214-dbb6-4fc4-e373-30359752c636"
   },
   "outputs": [
    {
     "data": {
      "text/plain": [
       "(60000, 28, 28, 1)"
      ]
     },
     "execution_count": 4,
     "metadata": {
      "tags": []
     },
     "output_type": "execute_result"
    }
   ],
   "source": [
    "# Scale images to the [0,1] range\n",
    "x_train = x_train.astype(\"float32\") / 255\n",
    "x_test = x_test.astype(\"float32\") / 255\n",
    "\n",
    "# Make images have shape (28,28,1)\n",
    "x_train = np.expand_dims(x_train, -1)\n",
    "x_test = np.expand_dims(x_test, -1)\n",
    "\n",
    "x_train.shape"
   ]
  },
  {
   "cell_type": "code",
   "execution_count": 5,
   "metadata": {
    "colab": {
     "base_uri": "https://localhost:8080/"
    },
    "executionInfo": {
     "elapsed": 5,
     "status": "ok",
     "timestamp": 1628494968450,
     "user": {
      "displayName": "김성국",
      "photoUrl": "",
      "userId": "14454204284131910272"
     },
     "user_tz": -540
    },
    "id": "B9Oum1gjwzCA",
    "outputId": "78dd0b27-ec71-49a9-8346-5055e0e37aff"
   },
   "outputs": [
    {
     "data": {
      "text/plain": [
       "(10000, 10)"
      ]
     },
     "execution_count": 5,
     "metadata": {
      "tags": []
     },
     "output_type": "execute_result"
    }
   ],
   "source": [
    "y_train = keras.utils.to_categorical(y_train, num_classes)\n",
    "y_test = keras.utils.to_categorical(y_test, num_classes)\n",
    "y_test.shape"
   ]
  },
  {
   "cell_type": "markdown",
   "metadata": {
    "id": "ox49Tg-XxXVA"
   },
   "source": [
    "## CNN 모델 만들기"
   ]
  },
  {
   "cell_type": "code",
   "execution_count": 6,
   "metadata": {
    "colab": {
     "base_uri": "https://localhost:8080/"
    },
    "executionInfo": {
     "elapsed": 677,
     "status": "ok",
     "timestamp": 1628494969124,
     "user": {
      "displayName": "김성국",
      "photoUrl": "",
      "userId": "14454204284131910272"
     },
     "user_tz": -540
    },
    "id": "cnbfOE3txT53",
    "outputId": "d07e7308-a06c-47d6-a01c-7559d7a3de17"
   },
   "outputs": [
    {
     "name": "stdout",
     "output_type": "stream",
     "text": [
      "Model: \"sequential\"\n",
      "_________________________________________________________________\n",
      "Layer (type)                 Output Shape              Param #   \n",
      "=================================================================\n",
      "conv2d (Conv2D)              (None, 26, 26, 32)        320       \n",
      "_________________________________________________________________\n",
      "max_pooling2d (MaxPooling2D) (None, 13, 13, 32)        0         \n",
      "_________________________________________________________________\n",
      "conv2d_1 (Conv2D)            (None, 11, 11, 64)        18496     \n",
      "_________________________________________________________________\n",
      "max_pooling2d_1 (MaxPooling2 (None, 5, 5, 64)          0         \n",
      "_________________________________________________________________\n",
      "flatten (Flatten)            (None, 1600)              0         \n",
      "_________________________________________________________________\n",
      "dropout (Dropout)            (None, 1600)              0         \n",
      "_________________________________________________________________\n",
      "dense (Dense)                (None, 10)                16010     \n",
      "=================================================================\n",
      "Total params: 34,826\n",
      "Trainable params: 34,826\n",
      "Non-trainable params: 0\n",
      "_________________________________________________________________\n"
     ]
    }
   ],
   "source": [
    "model = keras.Sequential()\n",
    "\n",
    "model.add(Conv2D(32, kernel_size=(3, 3), input_shape=(28, 28, 1), activation='relu'))\n",
    "model.add(MaxPooling2D(pool_size=(2, 2)))\n",
    "model.add(Conv2D(64, (3, 3), activation='relu'))\n",
    "model.add(MaxPooling2D(pool_size=(2, 2)))\n",
    "model.add(Flatten())\n",
    "model.add(Dropout(0.5))\n",
    "\n",
    "model.add(Dense(num_classes, activation='softmax'))\n",
    "\n",
    "model.summary()"
   ]
  },
  {
   "cell_type": "markdown",
   "metadata": {
    "id": "XaVAXM6WzsZL"
   },
   "source": [
    "## 모델 훈련"
   ]
  },
  {
   "cell_type": "code",
   "execution_count": 7,
   "metadata": {
    "executionInfo": {
     "elapsed": 17,
     "status": "ok",
     "timestamp": 1628494969125,
     "user": {
      "displayName": "김성국",
      "photoUrl": "",
      "userId": "14454204284131910272"
     },
     "user_tz": -540
    },
    "id": "S_Er3qBZxjac"
   },
   "outputs": [],
   "source": [
    "model.compile(loss='categorical_crossentropy',\n",
    "              optimizer='adam',\n",
    "              metrics=['accuracy'])"
   ]
  },
  {
   "cell_type": "code",
   "execution_count": 8,
   "metadata": {
    "colab": {
     "base_uri": "https://localhost:8080/"
    },
    "executionInfo": {
     "elapsed": 82698,
     "status": "ok",
     "timestamp": 1628495051810,
     "user": {
      "displayName": "김성국",
      "photoUrl": "",
      "userId": "14454204284131910272"
     },
     "user_tz": -540
    },
    "id": "E0IsPZA70CiZ",
    "outputId": "65b3678f-df09-4ce0-c64c-f45204972c16"
   },
   "outputs": [
    {
     "name": "stdout",
     "output_type": "stream",
     "text": [
      "Epoch 1/15\n",
      "469/469 [==============================] - 6s 10ms/step - loss: 0.3377 - accuracy: 0.8980 - val_loss: 0.0801 - val_accuracy: 0.9752\n",
      "Epoch 2/15\n",
      "469/469 [==============================] - 4s 8ms/step - loss: 0.1044 - accuracy: 0.9689 - val_loss: 0.0519 - val_accuracy: 0.9840\n",
      "Epoch 3/15\n",
      "469/469 [==============================] - 4s 8ms/step - loss: 0.0783 - accuracy: 0.9758 - val_loss: 0.0446 - val_accuracy: 0.9865\n",
      "Epoch 4/15\n",
      "469/469 [==============================] - 4s 8ms/step - loss: 0.0651 - accuracy: 0.9799 - val_loss: 0.0356 - val_accuracy: 0.9881\n",
      "Epoch 5/15\n",
      "469/469 [==============================] - 4s 8ms/step - loss: 0.0585 - accuracy: 0.9822 - val_loss: 0.0376 - val_accuracy: 0.9877\n",
      "Epoch 6/15\n",
      "469/469 [==============================] - 4s 8ms/step - loss: 0.0523 - accuracy: 0.9833 - val_loss: 0.0301 - val_accuracy: 0.9902\n",
      "Epoch 7/15\n",
      "469/469 [==============================] - 4s 8ms/step - loss: 0.0478 - accuracy: 0.9852 - val_loss: 0.0304 - val_accuracy: 0.9899\n",
      "Epoch 8/15\n",
      "469/469 [==============================] - 4s 8ms/step - loss: 0.0454 - accuracy: 0.9859 - val_loss: 0.0282 - val_accuracy: 0.9907\n",
      "Epoch 9/15\n",
      "469/469 [==============================] - 4s 8ms/step - loss: 0.0417 - accuracy: 0.9872 - val_loss: 0.0287 - val_accuracy: 0.9901\n",
      "Epoch 10/15\n",
      "469/469 [==============================] - 4s 8ms/step - loss: 0.0398 - accuracy: 0.9877 - val_loss: 0.0265 - val_accuracy: 0.9913\n",
      "Epoch 11/15\n",
      "469/469 [==============================] - 4s 8ms/step - loss: 0.0362 - accuracy: 0.9885 - val_loss: 0.0269 - val_accuracy: 0.9907\n",
      "Epoch 12/15\n",
      "469/469 [==============================] - 4s 8ms/step - loss: 0.0364 - accuracy: 0.9885 - val_loss: 0.0255 - val_accuracy: 0.9911\n",
      "Epoch 13/15\n",
      "469/469 [==============================] - 4s 8ms/step - loss: 0.0346 - accuracy: 0.9886 - val_loss: 0.0239 - val_accuracy: 0.9919\n",
      "Epoch 14/15\n",
      "469/469 [==============================] - 4s 8ms/step - loss: 0.0322 - accuracy: 0.9896 - val_loss: 0.0240 - val_accuracy: 0.9916\n",
      "Epoch 15/15\n",
      "469/469 [==============================] - 4s 8ms/step - loss: 0.0318 - accuracy: 0.9897 - val_loss: 0.0273 - val_accuracy: 0.9910\n"
     ]
    }
   ],
   "source": [
    "hist = model.fit(x_train, y_train,\n",
    "          batch_size=batch_size,\n",
    "          epochs=epochs,\n",
    "          validation_data=(x_test, y_test))"
   ]
  },
  {
   "cell_type": "markdown",
   "metadata": {
    "id": "C4YtB2yO1RUU"
   },
   "source": [
    "## 확인하기"
   ]
  },
  {
   "cell_type": "code",
   "execution_count": 9,
   "metadata": {
    "colab": {
     "base_uri": "https://localhost:8080/",
     "height": 335
    },
    "executionInfo": {
     "elapsed": 1490,
     "status": "ok",
     "timestamp": 1628495053286,
     "user": {
      "displayName": "김성국",
      "photoUrl": "",
      "userId": "14454204284131910272"
     },
     "user_tz": -540
    },
    "id": "v68egj5o1Lkp",
    "outputId": "867a7fd1-71df-462e-91eb-163e6d7a984b"
   },
   "outputs": [
    {
     "name": "stdout",
     "output_type": "stream",
     "text": [
      "## training loss and acc ##\n"
     ]
    },
    {
     "data": {
      "image/png": "[encoded data removed]",
      "text/plain": [
       "<Figure size 432x288 with 2 Axes>"
      ]
     },
     "metadata": {
      "needs_background": "light",
      "tags": []
     },
     "output_type": "display_data"
    },
    {
     "name": "stdout",
     "output_type": "stream",
     "text": [
      "Test loss: 0.027341388165950775\n",
      "Test accuracy: 0.9909999966621399\n"
     ]
    }
   ],
   "source": [
    "hist_view(hist)\n",
    "score = model.evaluate(x_test, y_test, verbose=0)\n",
    "print('Test loss:', score[0])\n",
    "print('Test accuracy:', score[1])\n"
   ]
  }
 ],
 "metadata": {
  "accelerator": "GPU",
  "colab": {
   "collapsed_sections": [],
   "name": "01_CNN.ipynb",
   "provenance": []
  },
  "kernelspec": {
   "display_name": "Python 3",
   "language": "python",
   "name": "python3"
  },
  "language_info": {
   "codemirror_mode": {
    "name": "ipython",
    "version": 3
   },
   "file_extension": ".py",
   "mimetype": "text/x-python",
   "name": "python",
   "nbconvert_exporter": "python",
   "pygments_lexer": "ipython3",
   "version": "3.8.9"
  }
 },
 "nbformat": 4,
 "nbformat_minor": 4
}
