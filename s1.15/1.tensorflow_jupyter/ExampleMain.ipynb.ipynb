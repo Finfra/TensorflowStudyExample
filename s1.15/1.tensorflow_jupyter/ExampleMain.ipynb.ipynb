{
 "cells": [
  {
   "cell_type": "markdown",
   "metadata": {},
   "source": [
    "# TensorFlow  Tutorial\n",
    "\n",
    "본 문서는 TensorFlow 를 사용하여 Deep Learning을 구현하기 위한 기초적인 실습 자료이다. \n",
    "\n",
    "The code and comments are written by Dong-Hyun Kwak <imcomking@gmail.com><br>\n",
    "Upgraed to Tensorflow v1.12 by NamJungGu <nowage@gmail.com> http://j.finfra.com/p/\n",
    "\n",
    "<a rel=\"license\" href=\"http://creativecommons.org/licenses/by-nc-sa/4.0/\"><img alt=\"Creative Commons License\" style=\"border-width:0\" src=\"https://i.creativecommons.org/l/by-nc-sa/4.0/88x31.png\" /></a><br />This work is licensed under a <a rel=\"license\" href=\"http://creativecommons.org/licenses/by-nc-sa/4.0/\">Creative Commons Attribution-NonCommercial-ShareAlike 4.0 International License</a>.\n",
    "\n",
    "\n"
   ]
  },
  {
   "cell_type": "markdown",
   "metadata": {},
   "source": [
    "# Example\n",
    "## [1. Tensorflow Intro](./TensorflowIntro/TensorflowIntro.ipynb)\n",
    "## [2. Basic](./Basic/Basic.ipynb)\n",
    "## [3. Gradient descent](./GradientDescent/GradientDescent.ipynb)\n",
    "## [4. MLP IRIS](./MLP_iris/mlp_iris.ipynb)\n",
    "## [5. MLP](./MLP/MLP.ipynb)\n",
    "## [6. RNN](./RNN/RNN.ipynb)\n",
    "## [7. CNN](./CNN/CNN.ipynb)\n",
    "## [8. CNN from Files](./CNN_fromFile/CNN_fromFile.ipynb)\n",
    "## [9. AutoEncoder](./AutoEncoder/AutoEncoder.ipynb)\n",
    "\n",
    "---\n",
    "## [Load & Save, MSE, Confusion Matrix,Numpy Matrix Operation](./EtcExample/EtcExample.ipynb)\n"
   ]
  }
 ],
 "metadata": {
  "kernelspec": {
   "display_name": "Python 3",
   "language": "python",
   "name": "python3"
  },
  "language_info": {
   "codemirror_mode": {
    "name": "ipython",
    "version": 3
   },
   "file_extension": ".py",
   "mimetype": "text/x-python",
   "name": "python",
   "nbconvert_exporter": "python",
   "pygments_lexer": "ipython3",
   "version": "3.6.9"
  }
 },
 "nbformat": 4,
 "nbformat_minor": 2
}
