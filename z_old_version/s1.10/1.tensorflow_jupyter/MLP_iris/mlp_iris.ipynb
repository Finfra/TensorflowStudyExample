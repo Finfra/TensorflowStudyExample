{
 "cells": [
  {
   "cell_type": "markdown",
   "metadata": {},
   "source": [
    "# TensorFlow Tutorial - 4. MLP ( Multi Layer Perceptron )\n",
    "\n",
    "본 문서는 TensorFlow 를 사용하여 Deep Learning을 구현하기 위한 기초적인 실습 자료이다.\n",
    "\n",
    "The code and comments are written by Dong-Hyun Kwak <imcomking@gmail.com><br>\n",
    "Upgraed to Tensorflow v1.9 by NamJungGu <nowage@gmail.com> \n",
    "\n",
    "<a rel=\"license\" href=\"http://creativecommons.org/licenses/by-nc-sa/4.0/\"><img alt=\"Creative Commons License\" style=\"border-width:0\" src=\"https://i.creativecommons.org/l/by-nc-sa/4.0/88x31.png\" /></a><br />This work is licensed under a <a rel=\"license\" href=\"http://creativecommons.org/licenses/by-nc-sa/4.0/\">Creative Commons Attribution-NonCommercial-ShareAlike 4.0 International License</a>.\n",
    "\n",
    "\n",
    "\n"
   ]
  },
  {
   "cell_type": "code",
   "execution_count": null,
   "metadata": {},
   "outputs": [],
   "source": [
    "import tensorflow as tf\n",
    "import numpy as np\n",
    "tf.reset_default_graph()\n"
   ]
  },
  {
   "cell_type": "code",
   "execution_count": null,
   "metadata": {},
   "outputs": [],
   "source": [
    "#[sepal length, sepal width, petal length, petal width]\n",
    "train_X=np.genfromtxt('iris_data_train.csv', delimiter=',')\n",
    "# [setosa, versicolor, virginica]\n",
    "train_y=np.genfromtxt('iris_labels_train.csv', delimiter=',')\n",
    "\n",
    "test_X=np.genfromtxt('iris_data_test.csv', delimiter=',')\n",
    "test_y=np.genfromtxt('iris_labels_test.csv', delimiter=',')\n",
    "\n",
    "#데이터 shape 을 확인해 봅니다.\n",
    "print(train_X.shape,train_y.shape)"
   ]
  },
  {
   "cell_type": "code",
   "execution_count": null,
   "metadata": {},
   "outputs": [],
   "source": [
    "# placeholder is used for feeding data.\n",
    "x = tf.placeholder(\"float\", shape=[None, 4], name = 'x') # none represents variable length of dimension. 784 is the dimension of MNIST data.\n",
    "y_target = tf.placeholder(\"float\", shape=[None, 3], name = 'y_target') # shape argument is optional, but this is useful to debug.\n",
    "\n",
    "\n",
    "# all the variables are allocated in GPU memory\n",
    "W1 = tf.Variable(tf.zeros([4, 5]), name = 'W1')   # create (4 * 5) matrix\n",
    "b1 = tf.Variable(tf.zeros([5]), name = 'b1')        # create (1 * 5) vector\n",
    "h1 = tf.sigmoid(tf.matmul(x, W1) + b1, name = 'h1')   # compute --> sigmoid(weighted summation)\n",
    "h1 = tf.nn.dropout(h1, 0.8)",
    "\n",
    "# all the variables are allocated in GPU memory\n",
    "W2 = tf.Variable(tf.zeros([5, 6]), name = 'W2')   # create (5 * 6) matrix\n",
    "b2 = tf.Variable(tf.zeros([6]), name = 'b2')        # create (1 * 6) vector\n",
    "h2 = tf.sigmoid(tf.matmul(h1, W2) + b2, name = 'h2')   # compute --> sigmoid(weighted summation)\n",
    "h2 = tf.nn.dropout(h2, 0.8)",
    "\n",
    "\n",
    "# Repeat again\n",
    "W3 = tf.Variable(tf.zeros([6, 3]), name = 'W3')     # create (6 * 3) matrix\n",
    "b3 = tf.Variable(tf.zeros([3]), name = 'b3')          # create (1 * 3) vector\n",
    "y = tf.nn.softmax(tf.matmul(h2, W3) + b3, name = 'y')  # compute classification --> softmax(weighted summation)\n",
    "\n",
    "# 최종결과는 ( 투입값 * 3) matrix\n",
    "\n",
    "# define the Loss function\n",
    "cross_entropy = -tf.reduce_sum(y_target*tf.log(y), name = 'cross_entropy')\n",
    "\n",
    "\n",
    "# define optimization algorithm\n",
    "train_step = tf.train.GradientDescentOptimizer(0.01).minimize(cross_entropy)\n",
    "\n",
    "\n",
    "\n",
    "correct_prediction = tf.equal(tf.argmax(y, 1), tf.argmax(y_target, 1))\n",
    "# correct_prediction is list of boolean which is the result of comparing(model prediction , data)\n",
    "\n",
    "\n",
    "accuracy = tf.reduce_mean(tf.cast(correct_prediction, \"float\")) \n",
    "# tf.cast() : changes true -> 1 / false -> 0\n",
    "# tf.reduce_mean() : calculate the mean"
   ]
  },
  {
   "cell_type": "code",
   "execution_count": null,
   "metadata": {},
   "outputs": [],
   "source": [
    "# Create Session\n",
    "sess = tf.Session(config=tf.ConfigProto(gpu_options=tf.GPUOptions(allow_growth=True))) # open a session which is a envrionment of computation graph.\n",
    "sess.run(tf.global_variables_initializer())# initialize the variables\n",
    "\n",
    "# training the MLP\n",
    "for i in range(10001): # minibatch iteraction\n",
    "    #batch = mnist.train.next_batch(100) # minibatch size\n",
    "    sess.run(train_step, feed_dict={x: train_X, y_target: train_y}) # placeholder's none length is replaced by i:i+100 indexes\n",
    "\n",
    "    if i%1000 == 0:\n",
    "        train_accuracy = sess.run(accuracy, feed_dict={x:train_X, y_target: train_y})\n",
    "        print (\"step %d, training accuracy: %.3f\"%(i, train_accuracy))\n",
    "\n",
    "# for given x, y_target data set\n",
    "print  (\"test accuracy: %g\"% sess.run(accuracy, feed_dict={x: test_X, y_target: test_y}))\n",
    "#sess.close()"
   ]
  },
  {
   "cell_type": "code",
   "execution_count": null,
   "metadata": {},
   "outputs": [],
   "source": []
  }
 ],
 "metadata": {
  "kernelspec": {
   "display_name": "tensorflow",
   "language": "python",
   "name": "tensorflow"
  },
  "language_info": {
   "codemirror_mode": {
    "name": "ipython",
    "version": 3
   },
   "file_extension": ".py",
   "mimetype": "text/x-python",
   "name": "python",
   "nbconvert_exporter": "python",
   "pygments_lexer": "ipython3",
   "version": "3.6.4"
  }
 },
 "nbformat": 4,
 "nbformat_minor": 2
}
