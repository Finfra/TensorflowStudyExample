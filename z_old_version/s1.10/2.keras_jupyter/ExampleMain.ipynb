{
 "cells": [
  {
   "cell_type": "markdown",
   "metadata": {},
   "source": [
    "# TensorFlow  Tutorial\n",
    "\n",
    "본 문서는 Keras를 사용하여 Deep Learning을 구현하기 위한 기초적인 실습 자료이다. \n",
    "\n",
    "Orignal code from https://github.com/keras-team/keras.<br>\n",
    "Upgraed to Tensorflow v1.10 by NamJungGu <nowage@gmail.com> \n",
    "\n",
    "<a rel=\"license\" href=\"http://creativecommons.org/licenses/by-nc-sa/4.0/\"><img alt=\"Creative Commons License\" style=\"border-width:0\" src=\"https://i.creativecommons.org/l/by-nc-sa/4.0/88x31.png\" /></a><br />This work is licensed under a <a rel=\"license\" href=\"http://creativecommons.org/licenses/by-nc-sa/4.0/\">Creative Commons Attribution-NonCommercial-ShareAlike 4.0 International License</a>.\n",
    "\n",
    "\n",
    "\n"
   ]
  },
  {
   "cell_type": "markdown",
   "metadata": {},
   "source": [
    "# Example\n",
    "## [1. MLP IRIS](./MLP_iris/MLP_iris.ipynb)\n",
    "## [2. MLP](./MLP/MLP.ipynb)\n",
    "## [3. RNN](./RNN/RNN.ipynb)\n",
    "## [4. CNN](./CNN/CNN.ipynb)\n",
    "## [5. AutoEncoder](./AutoEncoder/AutoEncoder.ipynb)\n",
    "\n",
    "\n"
   ]
  },
  {
   "cell_type": "code",
   "execution_count": null,
   "metadata": {},
   "outputs": [],
   "source": []
  }
 ],
 "metadata": {
  "kernelspec": {
   "display_name": "tensorflow",
   "language": "python",
   "name": "tensorflow"
  },
  "language_info": {
   "codemirror_mode": {
    "name": "ipython",
    "version": 3
   },
   "file_extension": ".py",
   "mimetype": "text/x-python",
   "name": "python",
   "nbconvert_exporter": "python",
   "pygments_lexer": "ipython3",
   "version": "3.6.4"
  }
 },
 "nbformat": 4,
 "nbformat_minor": 2
}
