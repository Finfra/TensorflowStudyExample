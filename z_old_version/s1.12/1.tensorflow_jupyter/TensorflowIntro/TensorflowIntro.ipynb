{
 "cells": [
  {
   "cell_type": "markdown",
   "metadata": {},
   "source": [
    "# TensorFlow Tutorial - 1. Tensorflow Intro\n",
    "\n",
    "본 문서는 TensorFlow 를 사용하여 Deep Learning을 구현하기 위한 기초적인 실습 자료이다.\n",
    "\n",
    "The code and comments are written by Dong-Hyun Kwak <imcomking@gmail.com><br>\n",
    "Upgraed to Tensorflow v1.10 by NamJungGu <nowage@gmail.com> \n",
    "\n",
    "<a rel=\"license\" href=\"http://creativecommons.org/licenses/by-nc-sa/4.0/\"><img alt=\"Creative Commons License\" style=\"border-width:0\" src=\"https://i.creativecommons.org/l/by-nc-sa/4.0/88x31.png\" /></a><br />This work is licensed under a <a rel=\"license\" href=\"http://creativecommons.org/licenses/by-nc-sa/4.0/\">Creative Commons Attribution-NonCommercial-ShareAlike 4.0 International License</a>"
   ]
  },
  {
   "cell_type": "markdown",
   "metadata": {},
   "source": [
    "# 1. Tensorflow Intro\n",
    "\n",
    "TensorFlow 이하, tf는 구글 주도하에 초기 개발되어, 2015년 12월 부터 오픈소스로 공개되어 널리 쓰이고 있는 기계학습(딥러닝)을 위한 라이브러리이다. Computation Graph를 사용한 Theano의 장점을 그대로 살려 automatic gradient 계산이 가능하고, Multi-GPU 환경에서도 동작가능한 아키텍처 기반으로 설계되었다. CPU와 GPU, Multi-GPU 환경을 모두 지원하며, 적절한 추상화의 레벨과 직관적이고 쉬운 문법, 빠른 업데이트 속도 등이 큰 장점이다.\n",
    "\n",
    "Computation Graph는 tf를 이해하는 데 가장 중요한 핵심이다.  말그대로 어떤 모델을 우리가 코딩하게 되면, 이 모델의 계산 과정이 일련의 node와 edge들로 연결된 graph를 이루게 되는데 이것이 바로 Computation Graph이다.\n",
    "\n",
    "#### 관련사이트\n",
    "TensorFlow 공식 홈페이지 : http://tensorflow.org/\n",
    "<br>TensorFlow Github 페이지 : https://github.com/tensorflow/tensorflow/releases\n",
    "<br>TensorFlow Contributors : https://github.com/tensorflow/tensorflow/graphs/contributors\n",
    "<br>TensorFlow 딥러닝 기초 예제 : http://playground.tensorflow.org/\n",
    "<br>딥러닝 Docker Image : https://hub.docker.com/r/imcomking/tttskc/\n"
   ]
  }
 ],
 "metadata": {
  "kernelspec": {
   "display_name": "tensorflow",
   "language": "python",
   "name": "tensorflow"
  },
  "language_info": {
   "codemirror_mode": {
    "name": "ipython",
    "version": 3
   },
   "file_extension": ".py",
   "mimetype": "text/x-python",
   "name": "python",
   "nbconvert_exporter": "python",
   "pygments_lexer": "ipython3",
   "version": "3.6.4"
  }
 },
 "nbformat": 4,
 "nbformat_minor": 2
}
