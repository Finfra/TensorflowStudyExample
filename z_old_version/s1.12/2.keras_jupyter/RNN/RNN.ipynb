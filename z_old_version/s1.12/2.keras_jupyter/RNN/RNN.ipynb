{
 "cells": [
  {
   "cell_type": "markdown",
   "metadata": {},
   "source": [
    "# Keras Simple RNN"
   ]
  },
  {
   "cell_type": "code",
   "execution_count": null,
   "metadata": {},
   "outputs": [],
   "source": [
    "from tensorflow.python.keras.layers import TimeDistributed, SimpleRNN, Dense\n",
    "\n",
    "\n",
    "from tensorflow.python.keras import Sequential\n",
    "\n",
    "\n",
    "import numpy as np\n",
    "np.random.seed(1337)\n",
    "\n",
    "sample_size = 256\n",
    "x_seed = [1, 0, 0, 0, 0, 0]\n",
    "y_seed = [1, 0.8, 0.6, 0, 0, 0]\n",
    "\n",
    "x_train = np.array([[x_seed] * sample_size]).reshape(sample_size,len(x_seed),1)\n",
    "y_train = np.array([[y_seed]*sample_size]).reshape(sample_size,len(y_seed),1)\n",
    "\n",
    "model=Sequential()\n",
    "model.add(SimpleRNN(input_shape  = (None, 1), units = 50, return_sequences = True))\n",
    "model.add(TimeDistributed(Dense(units = 1, activation  =  \"sigmoid\")))\n",
    "model.compile(loss = \"mse\", optimizer = \"rmsprop\")\n",
    "model.fit(x_train, y_train, epochs = 10, batch_size = 32)\n",
    "\n",
    "print(model.predict(np.array([[[1],[0],[0],[0],[0],[0]]])))"
   ]
  },
  {
   "cell_type": "code",
   "execution_count": null,
   "metadata": {},
   "outputs": [],
   "source": []
  }
 ],
 "metadata": {
  "kernelspec": {
   "display_name": "Python3",
   "language": "python",
   "name": "python3"
  },
  "language_info": {
   "codemirror_mode": {
    "name": "ipython",
    "version": 3
   },
   "file_extension": ".py",
   "mimetype": "text/x-python",
   "name": "python",
   "nbconvert_exporter": "python",
   "pygments_lexer": "ipython3",
   "version": "3.6.4"
  }
 },
 "nbformat": 4,
 "nbformat_minor": 2
}
