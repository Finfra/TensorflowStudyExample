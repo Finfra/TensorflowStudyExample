{
 "cells": [
  {
   "cell_type": "markdown",
   "metadata": {},
   "source": [
    "# TensorFlow Tutorial - 4. MLP ( Multi Layer Perceptron )\n",
    "\n",
    "본 문서는 TensorFlow 를 사용하여 Deep Learning을 구현하기 위한 기초적인 실습 자료이다.\n",
    "\n",
    "The code and comments are written by Dong-Hyun Kwak <imcomking@gmail.com><br>\n",
    "Upgraed to Tensorflow v1.9 by NamJungGu <nowage@gmail.com> \n",
    "\n",
    "<a rel=\"license\" href=\"http://creativecommons.org/licenses/by-nc-sa/4.0/\"><img alt=\"Creative Commons License\" style=\"border-width:0\" src=\"https://i.creativecommons.org/l/by-nc-sa/4.0/88x31.png\" /></a><br />This work is licensed under a <a rel=\"license\" href=\"http://creativecommons.org/licenses/by-nc-sa/4.0/\">Creative Commons Attribution-NonCommercial-ShareAlike 4.0 International License</a>.\n",
    "\n",
    "\n",
    "\n"
   ]
  },
  {
   "cell_type": "code",
   "execution_count": 1,
   "metadata": {},
   "outputs": [],
   "source": [
    "import tensorflow as tf\n",
    "MINIBATCH_SIZE = 100\n",
    "NUM_STEPS = 1000\n",
    "\n",
    "(train_x, train_y), (test_x, test_y) = tf.keras.datasets.mnist.load_data()\n"
   ]
  },
  {
   "cell_type": "code",
   "execution_count": 13,
   "metadata": {},
   "outputs": [
    {
     "name": "stdout",
     "output_type": "stream",
     "text": [
      "\n",
      "test_x.shape = (10000, 28, 28) \n",
      "test_y.shape = (10000,) \n",
      "test_y[0]    = 7 \n",
      "\n",
      "aa\n",
      "                            \n",
      "                            \n",
      "                            \n",
      "                            \n",
      "                            \n",
      "                            \n",
      "                            \n",
      "      OOOOOO                \n",
      "      OOOOOOOOOOOOOOOO      \n",
      "      OOOOOOOOOOOOOOOO      \n",
      "           OOOOOOOOOOO      \n",
      "                  OOOO      \n",
      "                 OOOO       \n",
      "                 OOOO       \n",
      "                OOOO        \n",
      "                OOOO        \n",
      "               OOOO         \n",
      "               OOO          \n",
      "              OOOO          \n",
      "             OOOO           \n",
      "            OOOOO           \n",
      "            OOOO            \n",
      "           OOOOO            \n",
      "           OOOO             \n",
      "          OOOOO             \n",
      "          OOOOO             \n",
      "          OOOO              \n",
      "                            \n"
     ]
    }
   ],
   "source": [
    "print(f'''\n",
    "test_x.shape = {test_x.shape} \n",
    "test_y.shape = {test_y.shape} \n",
    "test_y[0]    = {test_y[0]} \n",
    "'''\n",
    ")\n",
    "\n",
    "\n",
    "print(x)\n",
    "for i in range(28):\n",
    "    s=''\n",
    "    for j in range(28):\n",
    "        if test_x[0][i][j] > 0.9 :\n",
    "            s+='O'\n",
    "        else:\n",
    "            s+=' '    \n",
    "    print(s)\n",
    "    "
   ]
  },
  {
   "cell_type": "code",
   "execution_count": 14,
   "metadata": {},
   "outputs": [
    {
     "data": {
      "text/plain": [
       "<matplotlib.image.AxesImage at 0x7f13e4020940>"
      ]
     },
     "execution_count": 14,
     "metadata": {},
     "output_type": "execute_result"
    },
    {
     "data": {
      "image/png": "[encoded data removed]",
      "text/plain": [
       "<Figure size 432x288 with 1 Axes>"
      ]
     },
     "metadata": {
      "needs_background": "light"
     },
     "output_type": "display_data"
    }
   ],
   "source": [
    "import matplotlib.pyplot as plt\n",
    "plt.gray()\n",
    "plt.imshow(test_x[0].reshape(28, 28))    "
   ]
  },
  {
   "cell_type": "code",
   "execution_count": 15,
   "metadata": {},
   "outputs": [],
   "source": [
    "# Train set\n",
    "# Image\n",
    "train_x = train_x.reshape([train_x.shape[0], -1])\n",
    "train_x = train_x.astype('float32') / 255\n",
    "# Label\n",
    "train_y = tf.keras.utils.to_categorical(train_y, num_classes=10)\n",
    "# Test set\n",
    "# Image\n",
    "test_x = test_x.reshape([test_x.shape[0], -1])\n",
    "test_x = test_x.astype('float32') / 255\n",
    "# Label\n",
    "test_y = tf.keras.utils.to_categorical(test_y, num_classes=10)"
   ]
  },
  {
   "cell_type": "code",
   "execution_count": 16,
   "metadata": {},
   "outputs": [
    {
     "name": "stdout",
     "output_type": "stream",
     "text": [
      "WARNING:tensorflow:From <ipython-input-16-ce2f07db3c9c>:4: DatasetV1.make_one_shot_iterator (from tensorflow.python.data.ops.dataset_ops) is deprecated and will be removed in a future version.\n",
      "Instructions for updating:\n",
      "Use `for ... in dataset:` to iterate over a dataset. If using `tf.estimator`, return the `Dataset` object directly from your input function. As a last resort, you can use `tf.compat.v1.data.make_one_shot_iterator(dataset)`.\n"
     ]
    }
   ],
   "source": [
    "buffer_size = train_x.shape[0] + test_x.shape[0]\n",
    "dataset = tf.data.Dataset.from_tensor_slices(({\"image\": train_x}, train_y))\n",
    "dataset = dataset.shuffle(buffer_size).repeat().batch(MINIBATCH_SIZE)\n",
    "iterator = dataset.make_one_shot_iterator()\n",
    "next_batch = iterator.get_next()\n",
    "\n"
   ]
  },
  {
   "cell_type": "code",
   "execution_count": 17,
   "metadata": {},
   "outputs": [],
   "source": [
    "x = tf.placeholder(tf.float32, [None, 784])\n",
    "W = tf.Variable(tf.zeros([784, 10]))\n",
    "y_pred = tf.matmul(x ,W)\n",
    "y_true = tf.placeholder(tf.float32, [None, 10])\n"
   ]
  },
  {
   "cell_type": "code",
   "execution_count": 18,
   "metadata": {},
   "outputs": [],
   "source": [
    "\n",
    "# Cost(Loss) Function\n",
    "cross_entropy = tf.reduce_mean(\n",
    "                  tf.nn.softmax_cross_entropy_with_logits_v2(logits=y_pred, labels=y_true))\n",
    "\n",
    "# Gradient Step(Optimze)\n",
    "gd_step = tf.train.GradientDescentOptimizer(learning_rate=0.5).minimize(cross_entropy)\n",
    "\n",
    "correct_mask = tf.equal(tf.argmax(y_pred, 1), tf.argmax(y_true, 1))\n",
    "accuracy = tf.reduce_mean(tf.cast(correct_mask, tf.float32))"
   ]
  },
  {
   "cell_type": "code",
   "execution_count": 19,
   "metadata": {},
   "outputs": [
    {
     "name": "stdout",
     "output_type": "stream",
     "text": [
      "100 | 0.4147769\n",
      "200 | 0.29312602\n",
      "300 | 0.41927665\n",
      "400 | 0.26992378\n",
      "500 | 0.17326233\n",
      "600 | 0.17850976\n",
      "700 | 0.35745946\n",
      "800 | 0.1947348\n",
      "900 | 0.24961041\n",
      "1000 | 0.13932207\n",
      "Accuracy: 92.11%\n"
     ]
    }
   ],
   "source": [
    "with tf.Session() as sess:\n",
    "  # 학습\n",
    "  sess.run(tf.global_variables_initializer())\n",
    "\n",
    "  for step in range(NUM_STEPS):\n",
    "      batch_xs, batch_ys = sess.run(next_batch)\n",
    "      sess.run(gd_step, feed_dict={x: batch_xs['image'], y_true: batch_ys})\n",
    "\n",
    "      if(step + 1) % 100 == 0:\n",
    "          print(step+1, '|', sess.run(cross_entropy, feed_dict={x: batch_xs['image'], y_true: batch_ys}))\n",
    "\n",
    "  # 테스트\n",
    "  ans = sess.run(accuracy, feed_dict={x: test_x,\n",
    "                                     y_true: test_y})\n",
    "\n",
    "print(\"Accuracy: {:.2f}%\".format(ans*100))\n",
    "\n"
   ]
  },
  {
   "cell_type": "code",
   "execution_count": null,
   "metadata": {},
   "outputs": [],
   "source": []
  }
 ],
 "metadata": {
  "kernelspec": {
   "display_name": "Python 3",
   "language": "python",
   "name": "python3"
  },
  "language_info": {
   "codemirror_mode": {
    "name": "ipython",
    "version": 3
   },
   "file_extension": ".py",
   "mimetype": "text/x-python",
   "name": "python",
   "nbconvert_exporter": "python",
   "pygments_lexer": "ipython3",
   "version": "3.6.9"
  }
 },
 "nbformat": 4,
 "nbformat_minor": 2
}
