{
 "cells": [
  {
   "cell_type": "markdown",
   "metadata": {},
   "source": [
    "# TensorFlow Tutorial - 3. Gradient Descent\n",
    "\n",
    "본 문서는 TensorFlow 를 사용하여 Deep Learning을 구현하기 위한 기초적인 실습 자료이다.\n",
    "\n",
    "The code and comments are written by Dong-Hyun Kwak <imcomking@gmail.com><br>\n",
    "Upgraed to Tensorflow v1.9 by NamJungGu <nowage@gmail.com> \n",
    "\n",
    "<a rel=\"license\" href=\"http://creativecommons.org/licenses/by-nc-sa/4.0/\"><img alt=\"Creative Commons License\" style=\"border-width:0\" src=\"https://i.creativecommons.org/l/by-nc-sa/4.0/88x31.png\" /></a><br />This work is licensed under a <a rel=\"license\" href=\"http://creativecommons.org/licenses/by-nc-sa/4.0/\">Creative Commons Attribution-NonCommercial-ShareAlike 4.0 International License</a>.\n",
    "\n",
    "\n"
   ]
  },
  {
   "cell_type": "markdown",
   "metadata": {},
   "source": [
    "# Gradient Descent\n",
    "\n",
    "경사 하강법(Gradient Descent)으로 인자 찾아내기\n",
    "\n",
    "아래의 예제는 가중치 행렬W와 바이어스b를 경사하강법을 통해서 찾아내는 것을 보여줍니다. 목표값은 간단한 식으로 산출되도록 합니다."
   ]
  },
  {
   "cell_type": "code",
   "execution_count": null,
   "metadata": {},
   "outputs": [],
   "source": [
    "import tensorflow as tf\n",
    "import numpy as np\n",
    "\n",
    "# Numpy 랜덤으로 2개 짜리의 가짜 데이터 100개 만들기. (float64 -> float32로 변환)\n",
    "x_data = np.float32(np.random.rand(100,2))\n",
    "# 학습 레이블(목표값)은 아래의 식으로 산출. (W = [[1], [2]], b = 3)\n",
    "y_data = np.dot(x_data,[[1.], [2.]]) + 3."
   ]
  },
  {
   "cell_type": "markdown",
   "metadata": {},
   "source": [
    "입력 데이터와 W, b를 사용해 선형 모델을 정의합니다."
   ]
  },
  {
   "cell_type": "code",
   "execution_count": null,
   "metadata": {},
   "outputs": [],
   "source": [
    "# b는 0,\n",
    "b = tf.Variable(tf.zeros([1]))\n",
    "# W는 1x2 형태의 웨이트 변수 (균등 랜덤값으로 초기화)\n",
    "W = tf.Variable(tf.random_uniform([2,1], -1.0, 1.0))\n",
    "y = tf.matmul( x_data,W) + b"
   ]
  },
  {
   "cell_type": "markdown",
   "metadata": {},
   "source": [
    "이제 손실과 학습 함수를 정의 합니다. 평균 제곱 오차가 최소화 되는 지점을 경사하강법으로 구하게 됩니다."
   ]
  },
  {
   "cell_type": "code",
   "execution_count": null,
   "metadata": {},
   "outputs": [],
   "source": [
    "# 손실 함수 정의\n",
    "loss = tf.reduce_mean(tf.square(y - y_data))\n",
    "# 경사하강법으로 손실 함수를 최소화 (0.5는 학습 비율)\n",
    "optimizer = tf.train.GradientDescentOptimizer(0.5)\n",
    "# 학습 오퍼레이션 정의\n",
    "train = optimizer.minimize(loss)"
   ]
  },
  {
   "cell_type": "markdown",
   "metadata": {},
   "source": [
    "학습 세션을 시작합니다."
   ]
  },
  {
   "cell_type": "code",
   "execution_count": null,
   "metadata": {},
   "outputs": [],
   "source": [
    "# 모든 변수를 초기화.\n",
    "init = tf.initialize_all_variables()\n",
    "\n",
    "# 세션 시작\n",
    "sess = tf.Session()\n",
    "sess.run(init)\n",
    "\n",
    "# 200번 학습.\n",
    "for step in range(0, 201):\n",
    "    sess.run(train)\n",
    "    if step % 20 == 0:\n",
    "        print(\"%4d %1.6f  %1.6f  %1.6f\" %(step, sess.run(W)[0],sess.run(W)[1], sess.run(b)) )"
   ]
  },
  {
   "cell_type": "markdown",
   "metadata": {},
   "source": [
    "처음에 설정한 W와 b를 훌륭히 찾아냈습니다. 어떠신가요? 개인적인 느낌은 코드가 깔끔한 것 같습니다. 텐서플로우는 기존에 나와있는 딥러닝 프레임워크에 비해 단순하면서도 표현력이 풍부합니다.\n",
    "\n",
    "텐서플로에 대해 좀 더 자세히 살펴보기 위해 MNIST 예제를 보겠습니다. (자세한 설명은 MNIST 예제 페이지를 참고하세요.)"
   ]
  },
  {
   "cell_type": "code",
   "execution_count": null,
   "metadata": {},
   "outputs": [],
   "source": []
  }
 ],
 "metadata": {
  "kernelspec": {
   "display_name": "Python 2",
   "language": "python",
   "name": "python2"
  },
  "language_info": {
   "codemirror_mode": {
    "name": "ipython",
    "version": 2
   },
   "file_extension": ".py",
   "mimetype": "text/x-python",
   "name": "python",
   "nbconvert_exporter": "python",
   "pygments_lexer": "ipython2",
   "version": "2.7.12"
  }
 },
 "nbformat": 4,
 "nbformat_minor": 2
}
